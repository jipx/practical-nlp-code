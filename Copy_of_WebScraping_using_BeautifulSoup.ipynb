{
  "nbformat": 4,
  "nbformat_minor": 0,
  "metadata": {
    "colab": {
      "name": "Copy of WebScraping_using_BeautifulSoup.ipynb",
      "provenance": [],
      "collapsed_sections": [],
      "include_colab_link": true
    },
    "kernelspec": {
      "display_name": "Python 3",
      "language": "python",
      "name": "python3"
    },
    "language_info": {
      "codemirror_mode": {
        "name": "ipython",
        "version": 3
      },
      "file_extension": ".py",
      "mimetype": "text/x-python",
      "name": "python",
      "nbconvert_exporter": "python",
      "pygments_lexer": "ipython3",
      "version": "3.7.4"
    }
  },
  "cells": [
    {
      "cell_type": "markdown",
      "metadata": {
        "id": "view-in-github",
        "colab_type": "text"
      },
      "source": [
        "<a href=\"https://colab.research.google.com/github/jipx/practical-nlp-code/blob/master/Copy_of_WebScraping_using_BeautifulSoup.ipynb\" target=\"_parent\"><img src=\"https://colab.research.google.com/assets/colab-badge.svg\" alt=\"Open In Colab\"/></a>"
      ]
    },
    {
      "cell_type": "markdown",
      "metadata": {
        "id": "vh_Bs4XdeRzQ"
      },
      "source": [
        "# In this notebook we show how we can scrap data from webpages using the [Beautiful Soup](https://www.crummy.com/software/BeautifulSoup/bs4/doc/), a python library.\n",
        "<br><br>"
      ]
    },
    {
      "cell_type": "code",
      "metadata": {
        "id": "nMfyf7YKN1oq",
        "colab": {
          "base_uri": "https://localhost:8080/"
        },
        "outputId": "916a17a6-7672-4b0d-ae05-23b0fcdecfac"
      },
      "source": [
        "# To install only the requirements of this notebook, uncomment the lines below and run this cell\n",
        "\n",
        "# ===========================\n",
        "\n",
        "!pip install numpy==1.19.5\n",
        "!pip install beautifulsoup4==4.6.3\n",
        "\n",
        "# ==========================="
      ],
      "execution_count": null,
      "outputs": [
        {
          "output_type": "stream",
          "name": "stdout",
          "text": [
            "Requirement already satisfied: numpy==1.19.5 in /usr/local/lib/python3.7/dist-packages (1.19.5)\n",
            "Requirement already satisfied: beautifulsoup4==4.6.3 in /usr/local/lib/python3.7/dist-packages (4.6.3)\n"
          ]
        }
      ]
    },
    {
      "cell_type": "code",
      "metadata": {
        "id": "oWlz0pNyN1ot",
        "colab": {
          "base_uri": "https://localhost:8080/"
        },
        "outputId": "1896f20b-bc2e-4a10-b2d6-66a364ae814b"
      },
      "source": [
        "# To install the requirements for the entire chapter, uncomment the lines below and run this cell\n",
        "\n",
        "# ===========================\n",
        "\n",
        "try :\n",
        "  import google.colab\n",
        "  !curl https://raw.githubusercontent.com/practical-nlp/practical-nlp/master/Ch2/ch2-requirements.txt | xargs -n 1 -L 1 pip install\n",
        "except ModuleNotFoundError :\n",
        "  !pip install -r \"ch2-requirements.txt\"\n",
        "\n",
        "# ==========================="
      ],
      "execution_count": null,
      "outputs": [
        {
          "output_type": "stream",
          "name": "stdout",
          "text": [
            "  % Total    % Received % Xferd  Average Speed   Time    Time     Time  Current\n",
            "                                 Dload  Upload   Total   Spent    Left  Speed\n",
            "100   304  100   304    0     0   1575      0 --:--:-- --:--:-- --:--:--  1575\n",
            "Requirement already satisfied: numpy==1.19.5 in /usr/local/lib/python3.7/dist-packages (1.19.5)\n",
            "Requirement already satisfied: pandas==1.1.5 in /usr/local/lib/python3.7/dist-packages (1.1.5)\n",
            "Requirement already satisfied: python-dateutil>=2.7.3 in /usr/local/lib/python3.7/dist-packages (from pandas==1.1.5) (2.8.2)\n",
            "Requirement already satisfied: pytz>=2017.2 in /usr/local/lib/python3.7/dist-packages (from pandas==1.1.5) (2018.9)\n",
            "Requirement already satisfied: numpy>=1.15.4 in /usr/local/lib/python3.7/dist-packages (from pandas==1.1.5) (1.19.5)\n",
            "Requirement already satisfied: six>=1.5 in /usr/local/lib/python3.7/dist-packages (from python-dateutil>=2.7.3->pandas==1.1.5) (1.15.0)\n",
            "Requirement already satisfied: beautifulsoup4==4.6.3 in /usr/local/lib/python3.7/dist-packages (4.6.3)\n",
            "Collecting pytesseract==0.3.7\n",
            "  Downloading pytesseract-0.3.7.tar.gz (13 kB)\n",
            "Requirement already satisfied: Pillow in /usr/local/lib/python3.7/dist-packages (from pytesseract==0.3.7) (7.1.2)\n",
            "Building wheels for collected packages: pytesseract\n",
            "  Building wheel for pytesseract (setup.py) ... \u001b[?25l\u001b[?25hdone\n",
            "  Created wheel for pytesseract: filename=pytesseract-0.3.7-py2.py3-none-any.whl size=13954 sha256=8eb5663ccc7a643759001b1e87e81070d432f283243f64d07980a3f2beef727f\n",
            "  Stored in directory: /root/.cache/pip/wheels/67/71/6c/7a8c5ca2e699752506999ae7baeb692e2b4fc6488c2cddcb22\n",
            "Successfully built pytesseract\n",
            "Installing collected packages: pytesseract\n",
            "Successfully installed pytesseract-0.3.7\n",
            "Requirement already satisfied: spacy==2.2.4 in /usr/local/lib/python3.7/dist-packages (2.2.4)\n",
            "Requirement already satisfied: blis<0.5.0,>=0.4.0 in /usr/local/lib/python3.7/dist-packages (from spacy==2.2.4) (0.4.1)\n",
            "Requirement already satisfied: murmurhash<1.1.0,>=0.28.0 in /usr/local/lib/python3.7/dist-packages (from spacy==2.2.4) (1.0.6)\n",
            "Requirement already satisfied: plac<1.2.0,>=0.9.6 in /usr/local/lib/python3.7/dist-packages (from spacy==2.2.4) (1.1.3)\n",
            "Requirement already satisfied: setuptools in /usr/local/lib/python3.7/dist-packages (from spacy==2.2.4) (57.4.0)\n",
            "Requirement already satisfied: catalogue<1.1.0,>=0.0.7 in /usr/local/lib/python3.7/dist-packages (from spacy==2.2.4) (1.0.0)\n",
            "Requirement already satisfied: cymem<2.1.0,>=2.0.2 in /usr/local/lib/python3.7/dist-packages (from spacy==2.2.4) (2.0.6)\n",
            "Requirement already satisfied: requests<3.0.0,>=2.13.0 in /usr/local/lib/python3.7/dist-packages (from spacy==2.2.4) (2.23.0)\n",
            "Requirement already satisfied: srsly<1.1.0,>=1.0.2 in /usr/local/lib/python3.7/dist-packages (from spacy==2.2.4) (1.0.5)\n",
            "Requirement already satisfied: thinc==7.4.0 in /usr/local/lib/python3.7/dist-packages (from spacy==2.2.4) (7.4.0)\n",
            "Requirement already satisfied: tqdm<5.0.0,>=4.38.0 in /usr/local/lib/python3.7/dist-packages (from spacy==2.2.4) (4.62.3)\n",
            "Requirement already satisfied: numpy>=1.15.0 in /usr/local/lib/python3.7/dist-packages (from spacy==2.2.4) (1.19.5)\n",
            "Requirement already satisfied: wasabi<1.1.0,>=0.4.0 in /usr/local/lib/python3.7/dist-packages (from spacy==2.2.4) (0.8.2)\n",
            "Requirement already satisfied: preshed<3.1.0,>=3.0.2 in /usr/local/lib/python3.7/dist-packages (from spacy==2.2.4) (3.0.6)\n",
            "Requirement already satisfied: importlib-metadata>=0.20 in /usr/local/lib/python3.7/dist-packages (from catalogue<1.1.0,>=0.0.7->spacy==2.2.4) (4.8.2)\n",
            "Requirement already satisfied: zipp>=0.5 in /usr/local/lib/python3.7/dist-packages (from importlib-metadata>=0.20->catalogue<1.1.0,>=0.0.7->spacy==2.2.4) (3.6.0)\n",
            "Requirement already satisfied: typing-extensions>=3.6.4 in /usr/local/lib/python3.7/dist-packages (from importlib-metadata>=0.20->catalogue<1.1.0,>=0.0.7->spacy==2.2.4) (3.10.0.2)\n",
            "Requirement already satisfied: chardet<4,>=3.0.2 in /usr/local/lib/python3.7/dist-packages (from requests<3.0.0,>=2.13.0->spacy==2.2.4) (3.0.4)\n",
            "Requirement already satisfied: certifi>=2017.4.17 in /usr/local/lib/python3.7/dist-packages (from requests<3.0.0,>=2.13.0->spacy==2.2.4) (2021.10.8)\n",
            "Requirement already satisfied: idna<3,>=2.5 in /usr/local/lib/python3.7/dist-packages (from requests<3.0.0,>=2.13.0->spacy==2.2.4) (2.10)\n",
            "Requirement already satisfied: urllib3!=1.25.0,!=1.25.1,<1.26,>=1.21.1 in /usr/local/lib/python3.7/dist-packages (from requests<3.0.0,>=2.13.0->spacy==2.2.4) (1.24.3)\n"
          ]
        }
      ]
    },
    {
      "cell_type": "code",
      "metadata": {
        "id": "P610gMZrd8SE"
      },
      "source": [
        "# making the necessary imports\n",
        "from pprint import pprint\n",
        "from bs4 import BeautifulSoup\n",
        "from urllib.request import urlopen "
      ],
      "execution_count": null,
      "outputs": []
    },
    {
      "cell_type": "code",
      "metadata": {
        "id": "jfwgiGjJeBSG"
      },
      "source": [
        "myurl = \"https://stackoverflow.com/questions/415511/how-to-get-the-current-time-in-python\" # specify the url\n",
        "html = urlopen(myurl).read() # query the website so that it returns a html page  \n",
        "soupified = BeautifulSoup(html, 'html.parser') # parse the html in the 'html' variable, and store it in Beautiful Soup format"
      ],
      "execution_count": null,
      "outputs": []
    },
    {
      "cell_type": "markdown",
      "metadata": {
        "id": "h3pDuMMtN1ov"
      },
      "source": [
        "As the size of the HTML webpage (soupified) is large, we are just showing some of its output (only 2000 characters)."
      ]
    },
    {
      "cell_type": "code",
      "metadata": {
        "id": "oNLt9kLJN1ow"
      },
      "source": [
        "#pprint(soupified.prettify())      # for printing the full HTML structure of the webpage"
      ],
      "execution_count": null,
      "outputs": []
    },
    {
      "cell_type": "code",
      "metadata": {
        "colab": {
          "base_uri": "https://localhost:8080/",
          "height": 1000
        },
        "id": "7TbFVmpRg6jN",
        "scrolled": false,
        "outputId": "fea34a67-acf5-4fa0-c88a-e604146689e4"
      },
      "source": [
        "pprint(soupified.prettify()[:2000]) # to get an idea of the html structure of the webpage "
      ],
      "execution_count": null,
      "outputs": [
        {
          "name": "stdout",
          "output_type": "stream",
          "text": [
            "('<!DOCTYPE html>\\n'\n",
            " '<html class=\"html__responsive html__fixed-top-bar\" itemscope=\"\" '\n",
            " 'itemtype=\"https://schema.org/QAPage\">\\n'\n",
            " ' <head>\\n'\n",
            " '  <title>\\n'\n",
            " '   datetime - How to get the current time in Python - Stack Overflow\\n'\n",
            " '  </title>\\n'\n",
            " '  <link '\n",
            " 'href=\"https://cdn.sstatic.net/Sites/stackoverflow/Img/favicon.ico?v=ec617d715196\" '\n",
            " 'rel=\"shortcut icon\"/>\\n'\n",
            " '  <link '\n",
            " 'href=\"https://cdn.sstatic.net/Sites/stackoverflow/Img/apple-touch-icon.png?v=c78bd457575a\" '\n",
            " 'rel=\"apple-touch-icon\"/>\\n'\n",
            " '  <link '\n",
            " 'href=\"https://cdn.sstatic.net/Sites/stackoverflow/Img/apple-touch-icon.png?v=c78bd457575a\" '\n",
            " 'rel=\"image_src\"/>\\n'\n",
            " '  <link href=\"/opensearch.xml\" rel=\"search\" title=\"Stack Overflow\" '\n",
            " 'type=\"application/opensearchdescription+xml\"/>\\n'\n",
            " '  <link '\n",
            " 'href=\"https://stackoverflow.com/questions/415511/how-to-get-the-current-time-in-python\" '\n",
            " 'rel=\"canonical\">\\n'\n",
            " '   <meta content=\"width=device-width, height=device-height, '\n",
            " 'initial-scale=1.0, minimum-scale=1.0\" name=\"viewport\"/>\\n'\n",
            " '   <meta content=\"website\" property=\"og:type\">\\n'\n",
            " '    <meta '\n",
            " 'content=\"https://stackoverflow.com/questions/415511/how-to-get-the-current-time-in-python\" '\n",
            " 'property=\"og:url\"/>\\n'\n",
            " '    <meta content=\"Stack Overflow\" property=\"og:site_name\"/>\\n'\n",
            " '    <meta '\n",
            " 'content=\"https://cdn.sstatic.net/Sites/stackoverflow/Img/apple-touch-icon@2.png?v=73d79a89bded\" '\n",
            " 'itemprop=\"image primaryImageOfPage\" property=\"og:image\"/>\\n'\n",
            " '    <meta content=\"summary\" name=\"twitter:card\"/>\\n'\n",
            " '    <meta content=\"stackoverflow.com\" name=\"twitter:domain\"/>\\n'\n",
            " '    <meta content=\"How to get the current time in Python\" itemprop=\"name\" '\n",
            " 'name=\"twitter:title\" property=\"og:title\"/>\\n'\n",
            " '    <meta content=\"What is the module/method used to get the current time?\" '\n",
            " 'itemprop=\"description\" name=\"twitter:description\" '\n",
            " 'property=\"og:description\"/>\\n'\n",
            " '    <script '\n",
            " 'src=\"https://ajax.googleapis.com/ajax/libs/jquery/1.12.4/jquery.min.js\">\\n'\n",
            " '    </script>\\n'\n",
            " '    <script src=\"https://cdn.sstatic.net/Js/stub.en.js?v=8eabfaaa0deb\">\\n'\n",
            " '    </script>\\n'\n",
            " '    <link href=\"https://cdn.sstatic.net/Shared/stacks.css?v=b4e52b95973a\" '\n",
            " 'rel=\"stylesheet\" type=\"text/css\"/>\\n'\n",
            " '    <link href=\"ht')\n"
          ]
        }
      ]
    },
    {
      "cell_type": "code",
      "metadata": {
        "colab": {
          "base_uri": "https://localhost:8080/",
          "height": 35
        },
        "id": "GDHVujprhLJZ",
        "outputId": "69e7067a-e9ca-4f9e-f1ff-08ce96ec408e"
      },
      "source": [
        "soupified.title # to get the title of the web page "
      ],
      "execution_count": null,
      "outputs": [
        {
          "data": {
            "text/plain": [
              "<title>datetime - How to get the current time in Python - Stack Overflow</title>"
            ]
          },
          "execution_count": 7,
          "metadata": {},
          "output_type": "execute_result"
        }
      ]
    },
    {
      "cell_type": "code",
      "metadata": {
        "colab": {
          "base_uri": "https://localhost:8080/",
          "height": 435
        },
        "id": "lSpsxVXkeDf0",
        "outputId": "e727c109-5c54-495a-9791-e0982fd1f0a2"
      },
      "source": [
        "question = soupified.find(\"div\", {\"class\": \"question\"}) # find the nevessary tag and class which it belongs to\n",
        "questiontext = question.find(\"div\", {\"class\": \"s-prose js-post-body\"})\n",
        "print(\"Question: \\n\", questiontext.get_text().strip())\n",
        "\n",
        "answer = soupified.find(\"div\", {\"class\": \"answer\"}) # find the nevessary tag and class which it belongs to\n",
        "answertext = answer.find(\"div\", {\"class\": \"s-prose js-post-body\"})\n",
        "print(\"Best answer: \\n\", answertext.get_text().strip())"
      ],
      "execution_count": null,
      "outputs": [
        {
          "name": "stdout",
          "output_type": "stream",
          "text": [
            "Question: \n",
            " What is the module/method used to get the current time?\n",
            "Best answer: \n",
            " Use:\n",
            ">>> import datetime\n",
            ">>> datetime.datetime.now()\n",
            "datetime.datetime(2009, 1, 6, 15, 8, 24, 78915)\n",
            "\n",
            ">>> print(datetime.datetime.now())\n",
            "2009-01-06 15:08:24.789150\n",
            "\n",
            "And just the time:\n",
            ">>> datetime.datetime.now().time()\n",
            "datetime.time(15, 8, 24, 78915)\n",
            "\n",
            ">>> print(datetime.datetime.now().time())\n",
            "15:08:24.789150\n",
            "\n",
            "See the documentation for more information.\n",
            "To save typing, you can import the datetime object from the datetime module:\n",
            ">>> from datetime import datetime\n",
            "\n",
            "Then remove the leading datetime. from all of the above.\n"
          ]
        }
      ]
    },
    {
      "cell_type": "markdown",
      "metadata": {
        "id": "j1jgT85dlcow"
      },
      "source": [
        "BeautifulSoup is one of the many libraries which allow us to scrape web pages. Depending on your needs you can choose between the many available choices like beautifulsoup, scrapy, selenium, etc"
      ]
    }
  ]
}